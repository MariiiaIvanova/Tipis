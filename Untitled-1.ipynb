{
 "cells": [
  {
   "cell_type": "code",
   "execution_count": 1,
   "metadata": {},
   "outputs": [
    {
     "name": "stdout",
     "output_type": "stream",
     "text": [
      "Размер вектора состояния ОУ:  (8,)\n",
      "Структура управляющего воздействия Box(-1.0, 1.0, (2,), float32)\n",
      "Moviepy - Building video random_luna_lander.mp4.\n",
      "Moviepy - Writing video random_luna_lander.mp4\n",
      "\n"
     ]
    },
    {
     "name": "stderr",
     "output_type": "stream",
     "text": [
      "                                                               \r"
     ]
    },
    {
     "name": "stdout",
     "output_type": "stream",
     "text": [
      "Moviepy - Done !\n",
      "Moviepy - video ready random_luna_lander.mp4\n"
     ]
    }
   ],
   "source": [
    "import gymnasium as gym\n",
    "from gymnasium.wrappers.monitoring.video_recorder import VideoRecorder\n",
    "import numpy as np\n",
    "\n",
    "def pid(state, params):\n",
    "    \"\"\"\n",
    "    расчет управляющего воздействия на основе ПД-регуляторования\n",
    "    :param state: состояния ОУ\n",
    "    :param params: параметры ПД-регуляторов\n",
    "    :return: управляющее воздействие\n",
    "    \"\"\"\n",
    "\n",
    "    # Коэффициенты ПД-регулятора\n",
    "    kp_alt = params[0]  # пропорциональная состовляющая по x\n",
    "    kd_alt = params[1]  # дифференцирующая состовляющая по x\n",
    "    kp_ang = params[2]  # пропорциональная состовляющая по углу\n",
    "    kd_ang = params[3]  # дифференцирующая состовляющая по углу\n",
    "\n",
    "    # расчет целевой переменной\n",
    "    alt_tgt = np.abs(state[0])\n",
    "    ang_tgt = (.25 * np.pi) * (state[0] + state[2])\n",
    "\n",
    "    # расчет ошибки\n",
    "    alt_error = (alt_tgt - state[1])\n",
    "    ang_error = (ang_tgt - state[4])\n",
    "\n",
    "    # Формируем управляющее воздействие ПД-регулятора\n",
    "    alt_adj = kp_alt * alt_error + kd_alt * state[3]\n",
    "    ang_adj = kp_ang * ang_error + kd_ang * state[5]\n",
    "\n",
    "\n",
    "    # Приводим к интервалу (-1,  1)\n",
    "    a = np.array([alt_adj, ang_adj])\n",
    "    a = np.clip(a, -1, +1)\n",
    "\n",
    "    # Если есть точка соприкосновения с землей, то глушим двигатели, никакие действия не пердаем\n",
    "    if state[6] or state[7]:\n",
    "        a[:] = 0\n",
    "    return a\n",
    "\n",
    "\n",
    "def start_game(environment, params, video_recorder=False):\n",
    "    \"\"\"\n",
    "    Симуляция\n",
    "    :param environment: среда Gym\n",
    "    :param params: параметры ПД-регулятора\n",
    "    :param video_recorder: объект для записи видео. False - без записи видео\n",
    "    :return: суммарное качество посадки\n",
    "    \"\"\"\n",
    "    state, _ = environment.reset()\n",
    "    done = False\n",
    "    total = 0\n",
    "    while not done:\n",
    "        environment.render()\n",
    "        if video_recorder:\n",
    "            video_recorder.capture_frame()\n",
    "\n",
    "        # случайное действие\n",
    "        # action = env.action_space.sample()\n",
    "\n",
    "        # ПД-регулятор\n",
    "        action = pid(state, params)\n",
    "        state, reward, done, info, _ = environment.step(action)\n",
    "        total += reward\n",
    "\n",
    "        # print(state)  # ‘x’: 10 ‘y’: 6.666 ‘vx’: 5\n",
    "        # ‘vy’: 7.5 ‘angle’: 1 ‘angular velocity’: 2.5\n",
    "\n",
    "        # print(reward, done, info, action)\n",
    "    return total\n",
    "\n",
    "\n",
    "def optimize(params, current_score, env, step):\n",
    "    \"\"\"\n",
    "    Подбор парамтеров\n",
    "    :param params: стартовые параметры\n",
    "    :param current_score: текущее качество посадки\n",
    "    :param env: среда gym\n",
    "    :param step: шаг оптимизации\n",
    "    :return: параметры и качество\n",
    "    \"\"\"\n",
    "\n",
    "    # добавить шум (меньше шума при увеличении n_steps)\n",
    "    test_params = params + np.random.normal(0, 2 / step, size=params.shape)\n",
    "\n",
    "    # тестирование параметров\n",
    "    scores = []\n",
    "    for trial in range(5):\n",
    "        score = start_game(env, test_params)\n",
    "        scores.append(score)\n",
    "    avg = np.mean(scores)\n",
    "\n",
    "    # Обновить параметры, если среднее значение награды\n",
    "    # лучше чем с предыдущими параметрами\n",
    "    if avg > current_score:\n",
    "        return test_params, avg\n",
    "    else:\n",
    "        return params, current_score\n",
    "\n",
    "\n",
    "if __name__ == \"__main__\":\n",
    "    env_name = 'LunarLander-v2'\n",
    "\n",
    "    env = gym.make(env_name,\n",
    "                   render_mode=\"rgb_array\",\n",
    "                   continuous=True)\n",
    "\n",
    "    print('Размер вектора состояния ОУ: ', env.observation_space.shape)\n",
    "    print('Структура управляющего воздействия', env.action_space)\n",
    "\n",
    "    optimize_params = False  # True - если хотим подобрать новые параметры\n",
    "    params_pd = np.array([0.84827712, -1.55060286, -1.82178159, 0.8182234])\n",
    "\n",
    "    if optimize_params:\n",
    "        score = start_game(env, params_pd, video_recorder=False)\n",
    "        for steps in range(100):\n",
    "            params_pd, score = optimize(params_pd, score, env, steps+1)\n",
    "            print(\"Step:\", steps, \"Score:\", score, \"Params:\", params_pd)\n",
    "    else:\n",
    "        vid = VideoRecorder(env, path=f\"random_luna_lander.mp4\")\n",
    "        params_pd = np.array([0.84827712, -1.55060286, -1.82178159, 0.8182234])\n",
    "        score = start_game(env, params_pd, video_recorder=vid)\n",
    "\n",
    "        vid.close()\n",
    "\n",
    "    env.close()"
   ]
  },
  {
   "cell_type": "code",
   "execution_count": null,
   "metadata": {},
   "outputs": [],
   "source": [
    "import cv2\n",
    "\n",
    "# Открываем видеофайл\n",
    "cap = cv2.VideoCapture(\"random_luna_lander.mp4\")\n",
    "\n",
    "# Проверяем, открылся ли файл\n",
    "if not cap.isOpened():\n",
    "    print(\"Не удалось открыть видеофайл\")\n",
    "    exit()\n",
    "\n",
    "# Воспроизводим видео\n",
    "while cap.isOpened():\n",
    "    ret, frame = cap.read()\n",
    "\n",
    "    # Если видео дочитано или произошла ошибка\n",
    "    if not ret:\n",
    "        break\n",
    "\n",
    "    # Выводим кадр на экран\n",
    "    cv2.imshow('Video', frame)\n",
    "  \n",
    "    # Для остановки воспроизведения нажмите клавишу \"q\"\n",
    "    if cv2.waitKey(1) & 0xFF == ord('q'):\n",
    "        break\n",
    "\n",
    "# Освобождаем ресурсы и закрываем окна\n",
    "cap.release()\n",
    "cv2.destroyAllWindows()\n",
    "\n"
   ]
  },
  {
   "cell_type": "code",
   "execution_count": 4,
   "metadata": {},
   "outputs": [
    {
     "ename": "ValueError",
     "evalue": "To embed videos, you must pass embed=True (this may make your notebook files huge)\nConsider passing Video(url='...')",
     "output_type": "error",
     "traceback": [
      "\u001b[1;31m---------------------------------------------------------------------------\u001b[0m",
      "\u001b[1;31mValueError\u001b[0m                                Traceback (most recent call last)",
      "\u001b[1;32mUntitled-1.ipynb Cell 3\u001b[0m line \u001b[0;36m5\n\u001b[0;32m      <a href='vscode-notebook-cell:Untitled-1.ipynb?jupyter-notebook#X10sdW50aXRsZWQ%3D?line=2'>3</a>\u001b[0m \u001b[39m# Отображение видео из локального файла\u001b[39;00m\n\u001b[0;32m      <a href='vscode-notebook-cell:Untitled-1.ipynb?jupyter-notebook#X10sdW50aXRsZWQ%3D?line=3'>4</a>\u001b[0m video_path \u001b[39m=\u001b[39m \u001b[39m\"\u001b[39m\u001b[39mD:/Anaconda/Untitled-1.ipynb/\u001b[39m\u001b[39m'\u001b[39m\u001b[39mrandom_luna_lander.mp4\u001b[39m\u001b[39m'\u001b[39m\u001b[39m\"\u001b[39m\n\u001b[1;32m----> <a href='vscode-notebook-cell:Untitled-1.ipynb?jupyter-notebook#X10sdW50aXRsZWQ%3D?line=4'>5</a>\u001b[0m video \u001b[39m=\u001b[39m Video(video_path)\n\u001b[0;32m      <a href='vscode-notebook-cell:Untitled-1.ipynb?jupyter-notebook#X10sdW50aXRsZWQ%3D?line=5'>6</a>\u001b[0m video\n\u001b[0;32m      <a href='vscode-notebook-cell:Untitled-1.ipynb?jupyter-notebook#X10sdW50aXRsZWQ%3D?line=7'>8</a>\u001b[0m \u001b[39m# Отображение видео по URL-адресу\u001b[39;00m\n",
      "File \u001b[1;32md:\\Anaconda\\Lib\\site-packages\\IPython\\core\\display.py:1162\u001b[0m, in \u001b[0;36mVideo.__init__\u001b[1;34m(self, data, url, filename, embed, mimetype, width, height, html_attributes)\u001b[0m\n\u001b[0;32m   1156\u001b[0m \u001b[39mif\u001b[39;00m data \u001b[39mand\u001b[39;00m \u001b[39mnot\u001b[39;00m embed:\n\u001b[0;32m   1157\u001b[0m     msg \u001b[39m=\u001b[39m \u001b[39m'\u001b[39m\u001b[39m'\u001b[39m\u001b[39m.\u001b[39mjoin([\n\u001b[0;32m   1158\u001b[0m         \u001b[39m\"\u001b[39m\u001b[39mTo embed videos, you must pass embed=True \u001b[39m\u001b[39m\"\u001b[39m,\n\u001b[0;32m   1159\u001b[0m         \u001b[39m\"\u001b[39m\u001b[39m(this may make your notebook files huge)\u001b[39m\u001b[39m\\n\u001b[39;00m\u001b[39m\"\u001b[39m,\n\u001b[0;32m   1160\u001b[0m         \u001b[39m\"\u001b[39m\u001b[39mConsider passing Video(url=\u001b[39m\u001b[39m'\u001b[39m\u001b[39m...\u001b[39m\u001b[39m'\u001b[39m\u001b[39m)\u001b[39m\u001b[39m\"\u001b[39m,\n\u001b[0;32m   1161\u001b[0m     ])\n\u001b[1;32m-> 1162\u001b[0m     \u001b[39mraise\u001b[39;00m \u001b[39mValueError\u001b[39;00m(msg)\n\u001b[0;32m   1164\u001b[0m \u001b[39mself\u001b[39m\u001b[39m.\u001b[39mmimetype \u001b[39m=\u001b[39m mimetype\n\u001b[0;32m   1165\u001b[0m \u001b[39mself\u001b[39m\u001b[39m.\u001b[39membed \u001b[39m=\u001b[39m embed\n",
      "\u001b[1;31mValueError\u001b[0m: To embed videos, you must pass embed=True (this may make your notebook files huge)\nConsider passing Video(url='...')"
     ]
    }
   ],
   "source": [
    "from IPython.display import Video\n",
    "\n",
    "# Отображение видео из локального файла\n",
    "video_path = \"D:/Anaconda/Untitled-1.ipynb/'random_luna_lander.mp4'\"\n",
    "video = Video(video_path)\n",
    "video\n",
    "\n",
    "# Отображение видео по URL-адресу\n",
    "video_url = \"http://example.com/video.mp4\"\n",
    "video = Video(video_url)\n",
    "video"
   ]
  },
  {
   "cell_type": "code",
   "execution_count": 5,
   "metadata": {},
   "outputs": [
    {
     "data": {
      "text/plain": [
       "IPython.core.display.Video"
      ]
     },
     "execution_count": 5,
     "metadata": {},
     "output_type": "execute_result"
    }
   ],
   "source": [
    "from IPython.display import Video\n",
    "url = 'D:/Anaconda/Untitled-1.ipynb/\"random_luna_lander.mp4\"'\n",
    "video = Video(url=url, embed=True)\n",
    "Video"
   ]
  },
  {
   "cell_type": "code",
   "execution_count": 3,
   "metadata": {},
   "outputs": [
    {
     "name": "stdout",
     "output_type": "stream",
     "text": [
      "Requirement already satisfied: gymnasium[box2d] in d:\\anaconda\\lib\\site-packages (0.29.1)Note: you may need to restart the kernel to use updated packages.\n",
      "\n",
      "Requirement already satisfied: numpy>=1.21.0 in d:\\anaconda\\lib\\site-packages (from gymnasium[box2d]) (1.24.3)\n",
      "Requirement already satisfied: cloudpickle>=1.2.0 in d:\\anaconda\\lib\\site-packages (from gymnasium[box2d]) (2.2.1)\n",
      "Requirement already satisfied: typing-extensions>=4.3.0 in d:\\anaconda\\lib\\site-packages (from gymnasium[box2d]) (4.7.1)\n",
      "Requirement already satisfied: farama-notifications>=0.0.1 in d:\\anaconda\\lib\\site-packages (from gymnasium[box2d]) (0.0.4)\n",
      "Requirement already satisfied: box2d-py==2.3.5 in d:\\anaconda\\lib\\site-packages (from gymnasium[box2d]) (2.3.5)\n",
      "Requirement already satisfied: pygame>=2.1.3 in d:\\anaconda\\lib\\site-packages (from gymnasium[box2d]) (2.5.2)\n",
      "Requirement already satisfied: swig==4.* in d:\\anaconda\\lib\\site-packages (from gymnasium[box2d]) (4.1.1)\n"
     ]
    }
   ],
   "source": [
    "pip install gymnasium[box2d]\n"
   ]
  }
 ],
 "metadata": {
  "kernelspec": {
   "display_name": "Python 3",
   "language": "python",
   "name": "python3"
  },
  "language_info": {
   "codemirror_mode": {
    "name": "ipython",
    "version": 3
   },
   "file_extension": ".py",
   "mimetype": "text/x-python",
   "name": "python",
   "nbconvert_exporter": "python",
   "pygments_lexer": "ipython3",
   "version": "3.11.4"
  },
  "orig_nbformat": 4
 },
 "nbformat": 4,
 "nbformat_minor": 2
}
